{
 "cells": [
  {
   "cell_type": "code",
   "execution_count": 9,
   "metadata": {},
   "outputs": [
    {
     "name": "stdout",
     "output_type": "stream",
     "text": [
      "Please say something...\n",
      "open songs\n"
     ]
    }
   ],
   "source": [
    "import webbrowser\n",
    "import speech_recognition as sr\n",
    "burl = \"https://www.youtube.com/results?search_query=\"\n",
    "\n",
    "def main():\n",
    "    r=sr.Recognizer()\n",
    "    with sr.Microphone() as source:\n",
    "        r.adjust_for_ambient_noise(source)\n",
    "        print(\"Please say something...\")\n",
    "        audio=r.listen(source)\n",
    "        try:\n",
    "            s=r.recognize_google(audio)\n",
    "            print(s)\n",
    "            webbrowser.open(burl+s)\n",
    "        except Exception as e:\n",
    "            print(\"Error : \"+str(e))\n",
    "main()"
   ]
  },
  {
   "cell_type": "code",
   "execution_count": null,
   "metadata": {},
   "outputs": [],
   "source": []
  }
 ],
 "metadata": {
  "kernelspec": {
   "display_name": "Python 3",
   "language": "python",
   "name": "python3"
  },
  "language_info": {
   "codemirror_mode": {
    "name": "ipython",
    "version": 3
   },
   "file_extension": ".py",
   "mimetype": "text/x-python",
   "name": "python",
   "nbconvert_exporter": "python",
   "pygments_lexer": "ipython3",
   "version": "3.7.4"
  }
 },
 "nbformat": 4,
 "nbformat_minor": 2
}
